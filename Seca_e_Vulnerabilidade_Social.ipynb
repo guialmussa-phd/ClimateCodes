{
  "nbformat": 4,
  "nbformat_minor": 0,
  "metadata": {
    "colab": {
      "provenance": [],
      "authorship_tag": "ABX9TyMmoLwx0kAmVqrhtbRzijEV"
    },
    "kernelspec": {
      "name": "python3",
      "display_name": "Python 3"
    },
    "language_info": {
      "name": "python"
    }
  },
  "cells": [
    {
      "cell_type": "code",
      "execution_count": null,
      "metadata": {
        "id": "ICS4SWDt6ld5"
      },
      "outputs": [],
      "source": [
        "# ========================================================\n",
        "# Construção de Índice de Vulnerabilidade à Seca\n",
        "# Exemplo para Google Colab\n",
        "# Guilherme A. L. Torres\n",
        "# ========================================================\n",
        "\n",
        "import pandas as pd\n",
        "import numpy as np\n",
        "import matplotlib.pyplot as plt\n",
        "import seaborn as sns\n",
        "\n",
        "# --------------------------------------------------------\n",
        "# Exemplo de dataset fictício\n",
        "# Cada linha = município\n",
        "# Variáveis climáticas: precipitação anual, SPI médio\n",
        "# Variáveis sociais: IDH, % dependência agrícola\n",
        "\n",
        "data = {\n",
        "    \"Municipio\": [\"A\", \"B\", \"C\", \"D\", \"E\"],\n",
        "    \"Precipitacao\": [850, 1200, 600, 700, 950],   # mm/ano\n",
        "    \"SPI\": [-1.2, 0.1, -2.0, -0.5, -0.8],         # índice de precipitação padronizado\n",
        "    \"IDH\": [0.65, 0.72, 0.55, 0.60, 0.68],        # índice de desenvolvimento humano\n",
        "    \"Depend_Agric\": [0.70, 0.40, 0.80, 0.65, 0.55] # % população dependente da agricultura\n",
        "}\n",
        "\n",
        "df = pd.DataFrame(data)\n",
        "\n",
        "# --------------------------------------------------------\n",
        "# Normalização Min-Max (0 a 1)\n",
        "def min_max_norm(series):\n",
        "    return (series - series.min()) / (series.max() - series.min())\n",
        "\n",
        "df_norm = df.copy()\n",
        "df_norm[\"Precipitacao\"] = min_max_norm(df[\"Precipitacao\"])\n",
        "df_norm[\"SPI\"] = min_max_norm(df[\"SPI\"])\n",
        "df_norm[\"IDH\"] = min_max_norm(df[\"IDH\"])\n",
        "df_norm[\"Depend_Agric\"] = min_max_norm(df[\"Depend_Agric\"])\n",
        "\n",
        "# --------------------------------------------------------\n",
        "# Definição dos pesos (aqui iguais, mas podem vir de PCA)\n",
        "pesos = {\n",
        "    \"Precipitacao\": 0.25,\n",
        "    \"SPI\": 0.25,\n",
        "    \"IDH\": 0.25,\n",
        "    \"Depend_Agric\": 0.25\n",
        "}\n",
        "\n",
        "# Cálculo do índice composto (quanto maior, maior vulnerabilidade)\n",
        "df_norm[\"Indice_Vulnerabilidade\"] = (\n",
        "    df_norm[\"Precipitacao\"] * pesos[\"Precipitacao\"] +\n",
        "    df_norm[\"SPI\"] * pesos[\"SPI\"] +\n",
        "    (1 - df_norm[\"IDH\"]) * pesos[\"IDH\"] +    # inversão: IDH alto = menor vulnerabilidade\n",
        "    df_norm[\"Depend_Agric\"] * pesos[\"Depend_Agric\"]\n",
        ")\n",
        "\n",
        "# --------------------------------------------------------\n",
        "# Visualização\n",
        "plt.figure(figsize=(10,5))\n",
        "sns.barplot(x=\"Municipio\", y=\"Indice_Vulnerabilidade\", data=df_norm, palette=\"Reds\")\n",
        "plt.title(\"Índice de Vulnerabilidade à Seca (0-1)\")\n",
        "plt.ylabel(\"Vulnerabilidade\")\n",
        "plt.xlabel(\"Município\")\n",
        "plt.ylim(0,1)\n",
        "plt.show()\n",
        "\n",
        "# --------------------------------------------------------\n",
        "# Resultado final\n",
        "print(\"Índice de Vulnerabilidade Calculado:\")\n",
        "print(df_norm[[\"Municipio\", \"Indice_Vulnerabilidade\"]].sort_values(by=\"Indice_Vulnerabilidade\", ascending=False))\n"
      ]
    }
  ]
}