{
  "nbformat": 4,
  "nbformat_minor": 0,
  "metadata": {
    "colab": {
      "provenance": [],
      "authorship_tag": "ABX9TyPyWAWsPPvTdKVFngns3mbg",
      "include_colab_link": true
    },
    "kernelspec": {
      "name": "python3",
      "display_name": "Python 3"
    },
    "language_info": {
      "name": "python"
    }
  },
  "cells": [
    {
      "cell_type": "markdown",
      "metadata": {
        "id": "view-in-github",
        "colab_type": "text"
      },
      "source": [
        "<a href=\"https://colab.research.google.com/github/guialmussa-phd/ClimateCodes/blob/main/Correla%C3%A7%C3%A3o_entre_clima_e_conte%C3%BAdo_relativo_de_%C3%A1gua_(RWC).ipynb\" target=\"_parent\"><img src=\"https://colab.research.google.com/assets/colab-badge.svg\" alt=\"Open In Colab\"/></a>"
      ]
    },
    {
      "cell_type": "code",
      "execution_count": null,
      "metadata": {
        "id": "_4Vf63nN8o2t"
      },
      "outputs": [],
      "source": [
        "# ========================================================\n",
        "# Correlação entre clima e conteúdo relativo de água (RWC)\n",
        "# Exemplo em cafeeiros (dados fictícios)\n",
        "# Guilherme A. L. Torres\n",
        "# ========================================================\n",
        "\n",
        "import pandas as pd\n",
        "import numpy as np\n",
        "import matplotlib.pyplot as plt\n",
        "import seaborn as sns\n",
        "from scipy.stats import pearsonr, spearmanr, f_oneway\n",
        "\n",
        "# --------------------------------------------------------\n",
        "# Dados fictícios: medições semanais de RWC + clima\n",
        "np.random.seed(42)\n",
        "datas = pd.date_range(\"2022-01-01\", \"2022-12-31\", freq=\"7D\")\n",
        "\n",
        "df = pd.DataFrame({\n",
        "    \"Data\": datas,\n",
        "    \"Tmax\": np.random.normal(29, 3, len(datas)),   # °C\n",
        "    \"Tmin\": np.random.normal(18, 2, len(datas)),   # °C\n",
        "    \"Precipitacao\": np.random.gamma(2, 3, len(datas)), # mm\n",
        "    \"RWC\": np.random.normal(75, 5, len(datas)) - np.linspace(0, 10, len(datas)) # tendência seca\n",
        "})\n",
        "\n",
        "df.set_index(\"Data\", inplace=True)\n",
        "\n",
        "# --------------------------------------------------------\n",
        "# Estatísticas descritivas\n",
        "print(\"Resumo estatístico:\")\n",
        "print(df.describe())\n",
        "\n",
        "# --------------------------------------------------------\n",
        "# Correlações\n",
        "corr_pearson = df.corr(method=\"pearson\")\n",
        "corr_spearman = df.corr(method=\"spearman\")\n",
        "\n",
        "print(\"\\nCorrelação de Pearson com RWC:\")\n",
        "print(corr_pearson[\"RWC\"])\n",
        "\n",
        "print(\"\\nCorrelação de Spearman com RWC:\")\n",
        "print(corr_spearman[\"RWC\"])\n",
        "\n",
        "# --------------------------------------------------------\n",
        "# Visualizações\n",
        "# 1. Série temporal RWC vs Precipitação\n",
        "fig, ax1 = plt.subplots(figsize=(12,5))\n",
        "ax1.plot(df.index, df[\"RWC\"], color=\"green\", marker=\"o\", label=\"RWC (%)\")\n",
        "ax1.set_ylabel(\"RWC (%)\", color=\"green\")\n",
        "ax2 = ax1.twinx()\n",
        "ax2.bar(df.index, df[\"Precipitacao\"], color=\"blue\", alpha=0.4, label=\"Precipitação (mm)\")\n",
        "ax2.set_ylabel(\"Precipitação (mm)\", color=\"blue\")\n",
        "plt.title(\"RWC (%) vs Precipitação semanal\")\n",
        "plt.show()\n",
        "\n",
        "# 2. Dispersão RWC vs Tmax\n",
        "plt.figure(figsize=(7,5))\n",
        "sns.regplot(x=\"Tmax\", y=\"RWC\", data=df, ci=None, scatter_kws={\"s\":60}, color=\"red\")\n",
        "plt.title(\"RWC (%) vs Tmax\")\n",
        "plt.xlabel(\"Temperatura máxima (°C)\")\n",
        "plt.ylabel(\"RWC (%)\")\n",
        "plt.show()\n",
        "\n",
        "# 3. Matriz de correlação (heatmap)\n",
        "plt.figure(figsize=(7,5))\n",
        "sns.heatmap(corr_pearson, annot=True, cmap=\"RdYlGn\", fmt=\".2f\")\n",
        "plt.title(\"Matriz de correlação (Pearson)\")\n",
        "plt.show()\n",
        "\n",
        "# --------------------------------------------------------\n",
        "# Exemplo de ANOVA (comparação entre grupos de chuva alta vs baixa)\n",
        "df[\"Grupo_Chuva\"] = pd.qcut(df[\"Precipitacao\"], q=2, labels=[\"Baixa chuva\", \"Alta chuva\"])\n",
        "anova = f_oneway(\n",
        "    df[df[\"Grupo_Chuva\"]==\"Baixa chuva\"][\"RWC\"],\n",
        "    df[df[\"Grupo_Chuva\"]==\"Alta chuva\"][\"RWC\"]\n",
        ")\n",
        "print(\"\\nResultado da ANOVA RWC entre grupos de chuva:\")\n",
        "print(f\"F = {anova.statistic:.3f}, p = {anova.pvalue:.4f}\")\n"
      ]
    }
  ]
}