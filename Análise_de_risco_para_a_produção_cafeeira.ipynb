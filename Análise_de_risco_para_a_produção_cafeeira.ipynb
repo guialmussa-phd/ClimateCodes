{
  "nbformat": 4,
  "nbformat_minor": 0,
  "metadata": {
    "colab": {
      "provenance": [],
      "authorship_tag": "ABX9TyNdHiJUTr2Ir4cSfLP5ZTep",
      "include_colab_link": true
    },
    "kernelspec": {
      "name": "python3",
      "display_name": "Python 3"
    },
    "language_info": {
      "name": "python"
    }
  },
  "cells": [
    {
      "cell_type": "markdown",
      "metadata": {
        "id": "view-in-github",
        "colab_type": "text"
      },
      "source": [
        "<a href=\"https://colab.research.google.com/github/guialmussa-phd/ClimateCodes/blob/main/An%C3%A1lise_de_risco_para_a_produ%C3%A7%C3%A3o_cafeeira.ipynb\" target=\"_parent\"><img src=\"https://colab.research.google.com/assets/colab-badge.svg\" alt=\"Open In Colab\"/></a>"
      ]
    },
    {
      "cell_type": "code",
      "execution_count": null,
      "metadata": {
        "id": "9VqQtjsK8Cjq"
      },
      "outputs": [],
      "source": [
        "# ========================================================\n",
        "# Análise de Risco Climático em Regiões Cafeeiras\n",
        "# Exemplo de pipeline (dados fictícios)\n",
        "# Guilherme A. L. Torres\n",
        "# ========================================================\n",
        "\n",
        "import pandas as pd\n",
        "import numpy as np\n",
        "import matplotlib.pyplot as plt\n",
        "import seaborn as sns\n",
        "from scipy.stats import linregress\n",
        "\n",
        "# --------------------------------------------------------\n",
        "# Dados fictícios: séries diárias de clima + produção anual\n",
        "np.random.seed(42)\n",
        "datas = pd.date_range(\"2000-01-01\", \"2019-12-31\", freq=\"D\")\n",
        "\n",
        "df = pd.DataFrame({\n",
        "    \"Data\": datas,\n",
        "    \"Tmax\": np.random.normal(28, 4, len(datas)),  # Temperatura máxima diária\n",
        "    \"Tmin\": np.random.normal(17, 3, len(datas)),  # Temperatura mínima diária\n",
        "    \"Precipitacao\": np.random.gamma(2, 2, len(datas))  # chuva diária (mm)\n",
        "})\n",
        "df.set_index(\"Data\", inplace=True)\n",
        "\n",
        "# Produção anual fictícia (sacas/ha)\n",
        "producao = pd.DataFrame({\n",
        "    \"Ano\": np.arange(2000, 2020),\n",
        "    \"Producao_cafe\": np.random.normal(25, 3, 20)  # sacas/ha\n",
        "})\n",
        "\n",
        "# --------------------------------------------------------\n",
        "# Índices climáticos\n",
        "# 1. Consecutive Dry Days (CDD)\n",
        "df[\"Dry\"] = df[\"Precipitacao\"] < 1.0\n",
        "df[\"CDD\"] = df[\"Dry\"] * (df[\"Dry\"].groupby((~df[\"Dry\"]).cumsum()).cumcount() + 1)\n",
        "CDD_annual = df[\"CDD\"].resample(\"Y\").max()\n",
        "\n",
        "# 2. Summer Days (SU) - dias com Tmax > 30°C\n",
        "SU_annual = (df[\"Tmax\"] > 30).resample(\"Y\").sum()\n",
        "\n",
        "# 3. Precipitação total anual\n",
        "Prec_annual = df[\"Precipitacao\"].resample(\"Y\").sum()\n",
        "\n",
        "# --------------------------------------------------------\n",
        "# Unindo índices climáticos e produção\n",
        "risk = pd.DataFrame({\n",
        "    \"Ano\": Prec_annual.index.year,\n",
        "    \"CDD\": CDD_annual.values,\n",
        "    \"SU\": SU_annual.values,\n",
        "    \"Precipitacao\": Prec_annual.values\n",
        "}).merge(producao, on=\"Ano\")\n",
        "\n",
        "print(risk.head())\n",
        "\n",
        "# --------------------------------------------------------\n",
        "# Correlação entre índices climáticos e produção\n",
        "corr = risk.corr()\n",
        "print(\"\\nMatriz de correlação:\")\n",
        "print(corr[\"Producao_cafe\"])\n",
        "\n",
        "# --------------------------------------------------------\n",
        "# Visualizações\n",
        "# 1. Séries temporais\n",
        "plt.figure(figsize=(12,6))\n",
        "plt.plot(risk[\"Ano\"], risk[\"Producao_cafe\"], marker=\"o\", label=\"Produção de café (sacas/ha)\")\n",
        "plt.plot(risk[\"Ano\"], risk[\"CDD\"], marker=\"s\", label=\"CDD (dias secos consecutivos)\")\n",
        "plt.plot(risk[\"Ano\"], risk[\"SU\"], marker=\"^\", label=\"SU (dias > 30°C)\")\n",
        "plt.legend()\n",
        "plt.title(\"Risco Climático e Produção de Café\")\n",
        "plt.ylabel(\"Índice / Produção\")\n",
        "plt.grid(True)\n",
        "plt.show()\n",
        "\n",
        "# 2. Dispersão: Produção vs CDD\n",
        "plt.figure(figsize=(7,5))\n",
        "sns.regplot(x=\"CDD\", y=\"Producao_cafe\", data=risk, ci=None, scatter_kws={\"s\":70})\n",
        "plt.title(\"Produção de café vs Dias secos consecutivos (CDD)\")\n",
        "plt.xlabel(\"CDD (dias)\")\n",
        "plt.ylabel(\"Produção de café (sacas/ha)\")\n",
        "plt.show()\n",
        "\n",
        "# 3. Dispersão: Produção vs SU\n",
        "plt.figure(figsize=(7,5))\n",
        "sns.regplot(x=\"SU\", y=\"Producao_cafe\", data=risk, ci=None, scatter_kws={\"s\":70}, color=\"red\")\n",
        "plt.title(\"Produção de café vs Dias > 30°C (SU)\")\n",
        "plt.xlabel(\"SU (dias)\")\n",
        "plt.ylabel(\"Produção de café (sacas/ha)\")\n",
        "plt.show()\n"
      ]
    }
  ]
}